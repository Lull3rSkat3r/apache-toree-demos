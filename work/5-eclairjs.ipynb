{
 "cells": [
  {
   "cell_type": "markdown",
   "metadata": {},
   "source": [
    "## EclairJs\n",
    "**Goal:** This notebook is to show an interesting example of an application building on top of Apache Toree. It also highlights Apache Toree's plugin system and how you can extend Apache Toree for unique use cases.\n",
    "\n",
    "[EclairJs](http://eclairjs.github.io/) is a project centered around exposing the Apache Spark APIs through JavaScript. This example notebook is using [eclairjs-nashorn](https://github.com/EclairJS/eclairjs-nashorn) to run JavaScript code against Apache Spark. This project utitlizes the fact that Apache Toree has a pluggable architecture. Namely, the eclairjs-nashorn project has created an interpreter plugin to handle the JavaScript interpretation.\n"
   ]
  },
  {
   "cell_type": "code",
   "execution_count": null,
   "metadata": {
    "collapsed": false
   },
   "outputs": [],
   "source": [
    "function run(sparkContext) {\n",
    "    var Tuple2 = require('eclairjs/Tuple2');\n",
    "\n",
    "    var file = \"./dream.txt\";\n",
    "\n",
    "\n",
    "    var rdd = sparkContext.textFile(file).cache();\n",
    "\n",
    "\n",
    "    var rdd2 = rdd.flatMap(function (sentence) {\n",
    "        return sentence.split(\" \");\n",
    "    });\n",
    "\n",
    "    var rdd3 = rdd2.filter(function (word) {\n",
    "        return word.trim().length > 0;\n",
    "    });\n",
    "\n",
    "    var rdd4 = rdd3.mapToPair(function (word, Tuple2) {\n",
    "        return new Tuple2(word, 1);\n",
    "    }, [Tuple2]);\n",
    "\n",
    "    var rdd5 = rdd4.reduceByKey(function (a, b) {\n",
    "        return a + b;\n",
    "    });\n",
    "\n",
    "    var rdd6 = rdd5.mapToPair(function (tuple, Tuple2) {\n",
    "        return new Tuple2(tuple._2() + 0.0, tuple._1());\n",
    "    }, [Tuple2])\n",
    "\n",
    "    var rdd7 = rdd6.sortByKey(false);\n",
    "    return JSON.stringify(rdd7.take(10));\n",
    "\n",
    "\n",
    "}\n",
    "\n"
   ]
  },
  {
   "cell_type": "code",
   "execution_count": null,
   "metadata": {
    "collapsed": false
   },
   "outputs": [],
   "source": [
    "var SparkConf = require('eclairjs/SparkConf');\n",
    "var SparkContext = require('eclairjs/SparkContext');\n",
    "var conf = new SparkConf().setAppName(\"JavaScript word count\");\n",
    "var sc = new SparkContext(conf);\n",
    "var result = run(sc);"
   ]
  },
  {
   "cell_type": "code",
   "execution_count": null,
   "metadata": {
    "collapsed": false
   },
   "outputs": [],
   "source": [
    "print(\"top 10 words = \" + result);"
   ]
  },
  {
   "cell_type": "code",
   "execution_count": null,
   "metadata": {
    "collapsed": true
   },
   "outputs": [],
   "source": []
  }
 ],
 "metadata": {
  "kernelspec": {
   "display_name": "Eclairjs Toree",
   "language": "",
   "name": "eclairjs"
  },
  "language_info": {
   "name": "scala"
  }
 },
 "nbformat": 4,
 "nbformat_minor": 0
}
